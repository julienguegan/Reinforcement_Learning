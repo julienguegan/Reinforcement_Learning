{
 "cells": [
  {
   "cell_type": "markdown",
   "metadata": {
    "ExecuteTime": {
     "end_time": "2020-04-14T16:34:33.399976Z",
     "start_time": "2020-04-14T16:34:33.377720Z"
    }
   },
   "source": [
    "**<font size=\"6\"><center>Optimisation de Politique</center></font>**\n",
    "\n",
    "<center> from <a href=\"https://spinningup.openai.com/en/latest/\">spinningup.openai.com</a> </center>"
   ]
  },
  {
   "cell_type": "markdown",
   "metadata": {},
   "source": [
    "# Gradient de politique simple"
   ]
  },
  {
   "cell_type": "markdown",
   "metadata": {},
   "source": [
    "On cherche à maximiser la récompense attendue $ J(\\pi_\\theta) = E_{\\tau\\sim\\pi_\\theta}[R(\\tau)] $ en utilisant une montée de gradient :\n",
    "\n",
    "$$ \\theta_{k+1} = \\theta_k + \\alpha \\nabla _\\theta J(\\pi_\\theta)|_{\\theta_k} $$\n",
    "\n",
    "Le terme $ \\nabla_\\theta J(\\pi_\\theta) $ est le **gradient de la politique**, on a besoin de trouver une expression qu'on peut calculer numériquement. On va notamment utiliser les termes suivants :"
   ]
  },
  {
   "cell_type": "markdown",
   "metadata": {},
   "source": [
    "1. Probabilité d'une trajectoire $\\tau$ : $ P(\\tau|\\theta) = \\rho_0(s_0) \\prod_{t=0}^{T} P(s_{t+1}|s_t,a_t)\\pi_\\theta(a_t|s_t) $   \n",
    "<br>\n",
    "2. Astuce du log-dérivée : $ \\nabla_\\theta P(\\tau|\\theta) = \\nabla_\\theta\\log P(\\tau|\\theta) $   &nbsp;&nbsp; *\\[de $\\frac{\\partial}{\\partial x} \\log x=1/x$, puis on réarrange et règle de dérivation en chaîne.\\]*    \n",
    "<br>\n",
    "3. Log-Probabilité d'une trajectoire $\\tau$ : $  \\log P(\\tau|\\theta) = \\log \\rho_0(s_0) + \\sum_{t=0}^{T}\\Big( \\log P(s_{t+1}|s_t,a_t) + \\log \\pi_\\theta(a_t|s_t) \\Big)$   \n",
    "<br>  \n",
    "4. L'environnement n'a pas de dépendance avec $\\theta$ donc $\\nabla\\rho_0(s_0) = 0$ et $\\nabla P(s_{t+1}|s_t,a_t) = 0$.   \n",
    "<br>   \n",
    "5. Gradient de la Log-Probabilité d'une trajectoire $\\tau$ : $ \\nabla_\\theta \\log P(\\tau|\\theta) = \\sum_{t=0}^{T}\\Big( \\nabla_\\theta \\log \\pi_\\theta(a_t|s_t) \\Big)$  \n",
    "\n",
    "<br>   \n",
    "\n",
    "On obtient alors le développement ci-dessous :   "
   ]
  },
  {
   "cell_type": "markdown",
   "metadata": {},
   "source": [
    "|Développement du calcul|\n",
    "|------|\n",
    "| $$\n",
    "\\begin{align}\n",
    "\\nabla_{\\theta} J(\\pi_{\\theta}) &= \\nabla_{\\theta} \\underset{\\tau \\sim \\pi_{\\theta}}{E}[R(\\tau)] & \\\\\n",
    "&= \\nabla_{\\theta} \\int_{\\tau} P(\\tau|\\theta) R(\\tau) & \\text{Expand expectation} \\\\\n",
    "&= \\int_{\\tau} \\nabla_{\\theta} P(\\tau|\\theta) R(\\tau) & \\text{Bring gradient under integral} \\\\\n",
    "&= \\int_{\\tau} P(\\tau|\\theta) \\nabla_{\\theta} \\log P(\\tau|\\theta) R(\\tau) & \\text{Log-derivative trick} \\\\\n",
    "&= \\underset{\\tau \\sim \\pi_{\\theta}}{E}\\Big[\\nabla_{\\theta} \\log P(\\tau|\\theta) R(\\tau)\\Big] & \\text{Return to expectation form} \\\\\n",
    "\\therefore \\nabla_{\\theta} J(\\pi_{\\theta}) &= \\underset{\\tau \\sim \\pi_{\\theta}}{E}\\Bigg[\\sum_{t=0}^{T} \\nabla_{\\theta} \\log \\pi_{\\theta}(a_t |s_t) R(\\tau)\\Bigg] & \\text{Expression for grad-log-prob}\n",
    "\\end{align}\n",
    "$$ |"
   ]
  },
  {
   "cell_type": "markdown",
   "metadata": {},
   "source": [
    "**On obtient une espérance ⇨ on peut l'estimer par la moyenne d'un échantillon. Si on collecte un ensemble de trajectoires $\\mathcal{D}$ où chaque trajectoire est obtenue en laissant l'agent dans l'environnment avec la politique $\\pi_\\theta$, le gradient de la politique peut être estimé par :**\n",
    "\n",
    "$$ \\hat{g} = \\frac{1}{|\\mathcal{D}|} \\sum_{\\tau \\in \\mathcal{D}}\\sum_{t=0}^{T} \\nabla_\\theta \\log \\pi_\\theta (a_t|s_t)R(\\tau)$$"
   ]
  },
  {
   "cell_type": "markdown",
   "metadata": {},
   "source": [
    "## Exemple d'implémentation"
   ]
  },
  {
   "cell_type": "code",
   "execution_count": 1,
   "metadata": {
    "ExecuteTime": {
     "end_time": "2020-04-14T21:30:18.578031Z",
     "start_time": "2020-04-14T21:30:17.030917Z"
    }
   },
   "outputs": [],
   "source": [
    "import torch\n",
    "import torch.nn as nn\n",
    "from torch.distributions.categorical import Categorical\n",
    "from torch.optim import Adam\n",
    "import numpy as np\n",
    "import gym\n",
    "from gym.spaces import Discrete, Box\n",
    "import matplotlib.pyplot as plt\n",
    "from tqdm import tqdm"
   ]
  },
  {
   "cell_type": "code",
   "execution_count": 2,
   "metadata": {
    "ExecuteTime": {
     "end_time": "2020-04-14T21:30:18.651151Z",
     "start_time": "2020-04-14T21:30:18.584411Z"
    }
   },
   "outputs": [],
   "source": [
    "# make environment, check spaces, get obs / act dims\n",
    "env     = gym.make('CartPole-v0')\n",
    "obs_dim = env.observation_space.shape[0]\n",
    "n_acts  = env.action_space.n\n",
    "\n",
    "# parameters\n",
    "hidden_sizes = [32]\n",
    "lr           = 1e-2\n",
    "batch_size   = 5000"
   ]
  },
  {
   "cell_type": "markdown",
   "metadata": {},
   "source": [
    "**1. Création de la Politique**\n",
    "\n",
    "On construit les fonctions nécessaires pour utiliser une politique catégorielle MLP. La sortie du module `logits_net` peut être utilisée pour construire les log-probabilités et probabilités pour les actions, et la fonction `get_action` échantillonnes les actions basées sur les probabilités calculées des logits.\n",
    "\n",
    "Une partie du travail est faite par l'objet `Categorical`. C'est un objet `Distribution` de PyTorch qui possède quelques fonctions mathématiques associées aux distributions de probabilité. En particulier, il dispose d'une méthode d'échantillonnage à partir de la distribution et d'une méthode pour calculer les log-probabilités d'échantillons donnés (que nous utiliserons plus tard)."
   ]
  },
  {
   "cell_type": "code",
   "execution_count": 3,
   "metadata": {
    "ExecuteTime": {
     "end_time": "2020-04-14T21:30:18.688159Z",
     "start_time": "2020-04-14T21:30:18.654880Z"
    }
   },
   "outputs": [],
   "source": [
    "# Build a feedforward neural network.\n",
    "def MLP(sizes, activation=nn.Tanh, output_activation=nn.Identity):\n",
    "    layers = []\n",
    "    for j in range(len(sizes)-1):\n",
    "        act = activation if j < len(sizes)-2 else output_activation\n",
    "        layers += [nn.Linear(sizes[j], sizes[j+1]), act()]\n",
    "    return nn.Sequential(*layers)\n",
    "    \n",
    "# make core of policy network\n",
    "logits_net = MLP(sizes=[obs_dim]+hidden_sizes+[n_acts])    \n",
    "    \n",
    "# make function to compute action distribution\n",
    "def get_policy(observation):\n",
    "    logits = logits_net(observation)\n",
    "    return Categorical(logits=logits)\n",
    "\n",
    "# make action selection function (outputs int actions, sampled from policy)\n",
    "def get_action(observation):\n",
    "    return get_policy(observation).sample().item()\n"
   ]
  },
  {
   "cell_type": "code",
   "execution_count": 4,
   "metadata": {
    "ExecuteTime": {
     "end_time": "2020-04-14T21:30:18.828556Z",
     "start_time": "2020-04-14T21:30:18.690667Z"
    }
   },
   "outputs": [],
   "source": [
    "# make optimizer\n",
    "optimizer = Adam(logits_net.parameters(), lr=lr)"
   ]
  },
  {
   "cell_type": "markdown",
   "metadata": {},
   "source": [
    "**2. Création de la fonction de perte**\n",
    "\n",
    "Ici, on construit une fonction de \"perte\" pour l'algorithme de gradient de politique. Lorsqu'on a les *bonnes données*, le gradient de cette fonction perte est égal au gradient de la politique. Les *bonnes données* signifient un ensemble  (état, action, poids) collecté tout en agissant conformément à la politique actuelle, où le poids pour une paire état-action est la récompense de l'épisode auquel il appartient.\n",
    "\n",
    "|A Savoir|\n",
    "|:------|\n",
    "| On l'appelle fonction de perte mais pas au sens habituel de l'apprentissage supervisé : <br><br> 1. La distribution des données dépend des paramètres. Une fonction de perte est généralement définie sur une distribution de données fixe indépendante des paramètres que nous visons à optimiser. Ce n'est pas le cas ici, où les données doivent être échantillonnées sur la politique la plus récente.<br><br> 2. Elle ne mesure pas les performances. Une fonction de perte évalue généralement la mesure de performance qui nous intéresse. Ici, on veut connaître la récompense attendue, $J(\\pi_\\theta)$, mais notre fonction de \"perte\" ne se rapproche pas du tout de cela, même dans l'esspérance. Cette fonction de \"perte\" ne nous est utile que parce que, lorsqu'elle est évaluée aux paramètres actuels, avec des données générées par les paramètres actuels, elle a le gradient négatif de performance.<br> <br>Il est courant pour les praticants de ML d'interpréter une fonction de perte comme un signal utile pendant l'entraînement - \"si la perte diminue, tout va bien.\" Dans les gradients de politique, cette intuition est fausse et on ne peut s'interesser qu'à la récompense moyenne. La fonction de perte ne signifie rien. |"
   ]
  },
  {
   "cell_type": "code",
   "execution_count": 5,
   "metadata": {
    "ExecuteTime": {
     "end_time": "2020-04-14T21:30:18.953879Z",
     "start_time": "2020-04-14T21:30:18.832726Z"
    }
   },
   "outputs": [],
   "source": [
    "# make loss function whose gradient, for the right data, is policy gradient\n",
    "def compute_loss(observation, action, weights):\n",
    "    logP = get_policy(observation).log_prob(action)\n",
    "    return -(logP * weights).mean()"
   ]
  },
  {
   "cell_type": "markdown",
   "metadata": {},
   "source": [
    "**3. Exécute 1 epoch d'entraînement de la politique**\n",
    "\n",
    "La fonction `train_one_epoch()` execute 1 \"epoch\" du gradient de politique :\n",
    "\n",
    "1. la collection des expériences où l'agent agit dans l'environnement en utilisant la politique actuelle pour un certain nombre d'épisodes. \n",
    "\n",
    "\n",
    "2. la mise à jour de la politique par montée de gradient."
   ]
  },
  {
   "cell_type": "code",
   "execution_count": 6,
   "metadata": {
    "ExecuteTime": {
     "end_time": "2020-04-14T21:30:19.106509Z",
     "start_time": "2020-04-14T21:30:18.994381Z"
    }
   },
   "outputs": [],
   "source": [
    "def train_one_epoch(render=False):\n",
    "    \n",
    "    # make some empty lists for logging.\n",
    "    batch_obs     = []      # for observations\n",
    "    batch_acts    = []      # for actions\n",
    "    batch_weights = []      # for R(tau) weighting in policy gradient\n",
    "    batch_rets    = []      # for measuring episode returns\n",
    "    batch_lens    = []      # for measuring episode lengths\n",
    "\n",
    "    # reset episode-specific variables\n",
    "    obs     = env.reset()   # first obs comes from starting distribution\n",
    "    done    = False         # signal from environment that episode is over\n",
    "    ep_rews = []            # list for rewards accrued throughout ep\n",
    "\n",
    "    # render first episode of each epoch\n",
    "    finished_rendering_this_epoch = False\n",
    "\n",
    "    # collect experience by acting in the environment with current policy\n",
    "    while True:\n",
    "\n",
    "        # rendering\n",
    "        if (not finished_rendering_this_epoch) and render:\n",
    "            env.render()\n",
    "\n",
    "        # save obs\n",
    "        batch_obs.append(obs.copy())\n",
    "\n",
    "        # act in the environment\n",
    "        act = get_action(torch.as_tensor(obs, dtype=torch.float32))\n",
    "        obs, rew, done, _ = env.step(act)\n",
    "\n",
    "        # save action, reward\n",
    "        batch_acts.append(act)\n",
    "        ep_rews.append(rew)\n",
    "\n",
    "        if done:\n",
    "            # if episode is over, record info about episode\n",
    "            ep_ret = sum(ep_rews) \n",
    "            ep_len = len(ep_rews)\n",
    "            batch_rets.append(ep_ret)\n",
    "            batch_lens.append(ep_len)\n",
    "\n",
    "            # the weight for each logprob(a|s) is R(tau)\n",
    "            batch_weights += [ep_ret] * ep_len\n",
    "\n",
    "            # reset episode-specific variables\n",
    "            obs, done, ep_rews = env.reset(), False, []\n",
    "\n",
    "            # won't render again this epoch\n",
    "            finished_rendering_this_epoch = True\n",
    "\n",
    "            # end experience loop if we have enough of it\n",
    "            if len(batch_obs) > batch_size:\n",
    "                break\n",
    "\n",
    "    # take a single policy gradient update step\n",
    "    optimizer.zero_grad()\n",
    "    obs        = torch.as_tensor(batch_obs, dtype=torch.float32)\n",
    "    act        = torch.as_tensor(batch_acts, dtype=torch.int32)\n",
    "    weights    = torch.as_tensor(batch_weights, dtype=torch.float32)\n",
    "    batch_loss = compute_loss(obs, act, weights)\n",
    "    batch_loss.backward()\n",
    "    optimizer.step()\n",
    "    \n",
    "    return batch_loss, batch_rets, batch_lens"
   ]
  },
  {
   "cell_type": "markdown",
   "metadata": {},
   "source": [
    "**4. Boucle principale**\n",
    "\n",
    "Execute la fonction `train_one_epoch` plusieurs fois."
   ]
  },
  {
   "cell_type": "code",
   "execution_count": 7,
   "metadata": {
    "ExecuteTime": {
     "end_time": "2020-04-14T21:32:45.319474Z",
     "start_time": "2020-04-14T21:30:19.111151Z"
    }
   },
   "outputs": [
    {
     "name": "stderr",
     "output_type": "stream",
     "text": [
      "100%|██████████████████████████████████████████████████████████████████████████████████| 50/50 [02:26<00:00,  2.92s/it]\n"
     ]
    }
   ],
   "source": [
    "epochs = 50\n",
    "render_each  = False\n",
    "render_final = False\n",
    "rewards = []\n",
    "\n",
    "# training loop\n",
    "for i in tqdm(range(epochs)):\n",
    "    batch_loss, batch_rets, batch_lens = train_one_epoch(render_each)\n",
    "    rewards.append(np.mean(batch_rets))\n",
    "    \n",
    "    if render_final and i==epochs-1:\n",
    "        env.render()\n",
    "  "
   ]
  },
  {
   "cell_type": "code",
   "execution_count": 8,
   "metadata": {
    "ExecuteTime": {
     "end_time": "2020-04-14T21:32:45.668160Z",
     "start_time": "2020-04-14T21:32:45.323748Z"
    }
   },
   "outputs": [
    {
     "data": {
      "image/png": "[encoded data removed]",
      "text/plain": [
       "<Figure size 720x360 with 1 Axes>"
      ]
     },
     "metadata": {
      "needs_background": "light"
     },
     "output_type": "display_data"
    }
   ],
   "source": [
    "plt.figure(figsize=(10,5))\n",
    "plt.plot(rewards)\n",
    "plt.title('Mean Reward')\n",
    "plt.xlabel('iteration')\n",
    "plt.show()"
   ]
  },
  {
   "cell_type": "markdown",
   "metadata": {},
   "source": [
    "# Gradient de politique \"Recompense à venir\"\n",
    "\n",
    "Dans l'expression précédente de notre gradient, \n",
    "\n",
    "$$ \\nabla_{\\theta} J(\\pi_{\\theta}) = \\underset{\\tau \\sim \\pi_{\\theta}}{E}\\Bigg[\\sum_{t=0}^{T} \\nabla_{\\theta} \\log \\pi_{\\theta}(a_t |s_t) R(\\tau)\\Bigg]  $$\n",
    "\n",
    "On remarque que $R(\\tau)$, la somme de toutes les récompenses déjà obtenues, est en facteur et donc chaque action est influencée par cette récompense *passée*. Ça n'a pas tellement de sense, les agents devraient renforcer les actions en se basant sur leurs conséquences *futures*.    \n",
    "\n",
    "\n",
    "On peut utiliser comme gradient de politique, \n",
    "\n",
    "$$ \\nabla_{\\theta} J(\\pi_{\\theta}) = \\underset{\\tau \\sim \\pi_{\\theta}}{E}\\Bigg[\\sum_{t=0}^{T} \\nabla_{\\theta} \\log \\pi_{\\theta}(a_t |s_t) \\sum_{t'=t}^T R(s_{t'},a_{t'},s_{t'+1})\\Bigg] $$\n",
    "\n",
    "qui dépend des **récompenses à venir** des paires état-action.\n",
    "\n",
    "|En quoi c'est mieux ?|\n",
    "|:------|\n",
    "| L'un des problèmes dans le calcul du gradient de politique est le nombre de trajectoire à tirer pour obtenir une estimation de faible variance. La première formulation inclut les récompenses passées qui ont une espérance nulle mais pas une variance nulle, ces termes ajoutent donc seulement du bruit à l'estimation du gradient|"
   ]
  },
  {
   "cell_type": "markdown",
   "metadata": {},
   "source": [
    "## Exemple d'implémentation\n",
    "\n",
    "Le principal changement par rapport à la précédente implémentation est dans la fonction de perte, désormais on utilise différents poids :\n",
    "\n",
    "```python\n",
    "# the weight for each logprob(a|s) is R(tau)\n",
    "batch_weights += [ep_ret] * ep_len\n",
    "```\n",
    "\n",
    "**devient**\n",
    "\n",
    "```python\n",
    "# the weight for each logprob(a_t|s_t) is reward-to-go from t\n",
    "batch_weights += list(reward_to_go(ep_rews))\n",
    "```"
   ]
  },
  {
   "cell_type": "code",
   "execution_count": 9,
   "metadata": {
    "ExecuteTime": {
     "end_time": "2020-04-14T21:32:45.679993Z",
     "start_time": "2020-04-14T21:32:45.671408Z"
    }
   },
   "outputs": [],
   "source": [
    "def reward_to_go(rewards):\n",
    "    n = len(rewards)\n",
    "    rewards_futures = np.zeros_like(rewards)\n",
    "    for i in reversed(range(n)):\n",
    "        rewards_futures[i] = rewards[i] + (rewards_futures[i+1] if i+1 < n else 0)\n",
    "    return rewards_futures"
   ]
  },
  {
   "cell_type": "code",
   "execution_count": 10,
   "metadata": {
    "ExecuteTime": {
     "end_time": "2020-04-14T21:32:45.880271Z",
     "start_time": "2020-04-14T21:32:45.682748Z"
    }
   },
   "outputs": [],
   "source": [
    "def train_one_epoch(render=False):\n",
    "    \n",
    "    # make some empty lists for logging.\n",
    "    batch_obs     = []      # for observations\n",
    "    batch_acts    = []      # for actions\n",
    "    batch_weights = []      # for R(tau) weighting in policy gradient\n",
    "    batch_rets    = []      # for measuring episode returns\n",
    "    batch_lens    = []      # for measuring episode lengths\n",
    "\n",
    "    # reset episode-specific variables\n",
    "    observation = env.reset()   # first observation comes from starting distribution\n",
    "    done        = False         # signal from environment that episode is over\n",
    "    ep_rews     = []            # list for rewards accrued throughout epoch\n",
    "\n",
    "    # render first episode of each epoch\n",
    "    finished_rendering_this_epoch = False\n",
    "\n",
    "    # collect experience by acting in the environment with current policy\n",
    "    while True:\n",
    "\n",
    "        # rendering\n",
    "        if (not finished_rendering_this_epoch) and render:\n",
    "            env.render()\n",
    "\n",
    "        # save obs\n",
    "        batch_obs.append(observation.copy())\n",
    "\n",
    "        # action in the environment\n",
    "        action = get_action(torch.as_tensor(observation, dtype=torch.float32))\n",
    "        observation, reward, done, _ = env.step(action)\n",
    "\n",
    "        # save action, reward\n",
    "        batch_acts.append(action)\n",
    "        ep_rews.append(reward)\n",
    "\n",
    "        if done:\n",
    "            # if episode is over, record info about episode\n",
    "            ep_ret = sum(ep_rews) \n",
    "            ep_len = len(ep_rews)\n",
    "            batch_rets.append(ep_ret)\n",
    "            batch_lens.append(ep_len)\n",
    "\n",
    "            # the weight for each logprob(a|s) is R(tau)\n",
    "            batch_weights += [ep_ret] * ep_len\n",
    "\n",
    "            # reset episode-specific variables\n",
    "            observation = env.reset()\n",
    "            done        = False\n",
    "            ep_rews     = []\n",
    "\n",
    "            # won't render again this epoch\n",
    "            finished_rendering_this_epoch = True\n",
    "\n",
    "            # end experience loop if we have enough of it\n",
    "            if len(batch_obs) > batch_size:\n",
    "                break\n",
    "\n",
    "    # take a single policy gradient update step\n",
    "    optimizer.zero_grad()\n",
    "    observation = torch.as_tensor(batch_obs, dtype=torch.float32)\n",
    "    action      = torch.as_tensor(batch_acts, dtype=torch.int32)\n",
    "    weights     = torch.as_tensor(batch_weights, dtype=torch.float32)\n",
    "    batch_loss  = compute_loss(observation, action, weights)\n",
    "    batch_loss.backward()\n",
    "    optimizer.step()\n",
    "    \n",
    "    return batch_loss, batch_rets, batch_lens"
   ]
  },
  {
   "cell_type": "code",
   "execution_count": 11,
   "metadata": {
    "ExecuteTime": {
     "end_time": "2020-04-14T21:35:14.750044Z",
     "start_time": "2020-04-14T21:32:45.884116Z"
    }
   },
   "outputs": [
    {
     "name": "stderr",
     "output_type": "stream",
     "text": [
      "100%|██████████████████████████████████████████████████████████████████████████████████| 50/50 [02:28<00:00,  2.97s/it]\n"
     ]
    }
   ],
   "source": [
    "epochs = 50\n",
    "render_each  = False\n",
    "render_final = False\n",
    "rewards = []\n",
    "\n",
    "# training loop\n",
    "for i in tqdm(range(epochs)):\n",
    "    batch_loss, batch_rets, batch_lens = train_one_epoch(render_each)\n",
    "    rewards.append(np.mean(batch_rets))\n",
    "    \n",
    "    if render_final and i==epochs-1:\n",
    "        env.render()\n",
    "       "
   ]
  },
  {
   "cell_type": "code",
   "execution_count": 12,
   "metadata": {
    "ExecuteTime": {
     "end_time": "2020-04-14T21:35:15.063568Z",
     "start_time": "2020-04-14T21:35:14.752583Z"
    }
   },
   "outputs": [
    {
     "data": {
      "image/png": "[encoded data removed]",
      "text/plain": [
       "<Figure size 720x360 with 1 Axes>"
      ]
     },
     "metadata": {
      "needs_background": "light"
     },
     "output_type": "display_data"
    }
   ],
   "source": [
    "plt.figure(figsize=(10,5))\n",
    "plt.plot(rewards)\n",
    "plt.title('Mean Reward')\n",
    "plt.xlabel('iteration')\n",
    "plt.show()"
   ]
  },
  {
   "cell_type": "markdown",
   "metadata": {
    "ExecuteTime": {
     "end_time": "2020-04-14T21:20:44.082456Z",
     "start_time": "2020-04-14T21:19:49.866Z"
    }
   },
   "source": [
    "# Référence dans le gradient de politique"
   ]
  },
  {
   "cell_type": "markdown",
   "metadata": {},
   "source": []
  },
  {
   "cell_type": "code",
   "execution_count": null,
   "metadata": {},
   "outputs": [],
   "source": []
  }
 ],
 "metadata": {
  "kernelspec": {
   "display_name": "Python 3",
   "language": "python",
   "name": "python3"
  },
  "language_info": {
   "codemirror_mode": {
    "name": "ipython",
    "version": 3
   },
   "file_extension": ".py",
   "mimetype": "text/x-python",
   "name": "python",
   "nbconvert_exporter": "python",
   "pygments_lexer": "ipython3",
   "version": "3.7.4"
  },
  "toc": {
   "base_numbering": 1,
   "nav_menu": {},
   "number_sections": true,
   "sideBar": true,
   "skip_h1_title": false,
   "title_cell": "Table of Contents",
   "title_sidebar": "Contents",
   "toc_cell": false,
   "toc_position": {
    "height": "calc(100% - 180px)",
    "left": "10px",
    "top": "150px",
    "width": "165px"
   },
   "toc_section_display": true,
   "toc_window_display": false
  },
  "varInspector": {
   "cols": {
    "lenName": 16,
    "lenType": 16,
    "lenVar": 40
   },
   "kernels_config": {
    "python": {
     "delete_cmd_postfix": "",
     "delete_cmd_prefix": "del ",
     "library": "var_list.py",
     "varRefreshCmd": "print(var_dic_list())"
    },
    "r": {
     "delete_cmd_postfix": ") ",
     "delete_cmd_prefix": "rm(",
     "library": "var_list.r",
     "varRefreshCmd": "cat(var_dic_list()) "
    }
   },
   "types_to_exclude": [
    "module",
    "function",
    "builtin_function_or_method",
    "instance",
    "_Feature"
   ],
   "window_display": false
  }
 },
 "nbformat": 4,
 "nbformat_minor": 2
}
