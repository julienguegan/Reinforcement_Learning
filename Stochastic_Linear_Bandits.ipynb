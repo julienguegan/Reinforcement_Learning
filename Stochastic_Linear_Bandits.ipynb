{
 "cells": [
  {
   "cell_type": "code",
   "execution_count": 1,
   "metadata": {
    "ExecuteTime": {
     "end_time": "2020-01-24T15:29:18.302193Z",
     "start_time": "2020-01-24T15:29:16.137627Z"
    },
    "colab": {},
    "colab_type": "code",
    "id": "ylZIq1mOJBr8"
   },
   "outputs": [],
   "source": [
    "import sys\n",
    "\n",
    "import numpy as np\n",
    "from scipy.stats import bernoulli\n",
    "from math import log\n",
    "\n",
    "import random\n",
    "import matplotlib.pyplot as plt\n",
    "%matplotlib inline\n",
    "\n",
    "import seaborn as sns"
   ]
  },
  {
   "cell_type": "markdown",
   "metadata": {
    "colab_type": "text",
    "id": "njfnT-sUER9J"
   },
   "source": [
    "# Practical Session on Stochastic Linear Bandits :\n",
    "\n",
    "The architecture of code below provides the environment to run a standard linear bandit experiment. \n",
    "\n",
    "## LinUCB : Implementing optimism in $R^d$\n",
    "\n",
    "1. Implement LinUCB as studied in class. In your opinion, what is (are) the bottleneck(s) of this algorithm ? \n",
    "\n",
    "<font color=\"blue\"> The computation of the inverse matrix at each step. </font>\n",
    "\n",
    "2. One key step is to invert the covariance matrix in order to compute the elliptical norm of each available action. At round $t+1$ the new covariance matrix is very similar to the previous one... Can you think of a way to optimize this step by simply updating the old one ? \n",
    "Hint : You can search for a way to compute the inverse of the sum of an invertible matrix A and the outer product, $ uv^\\top$, of vectors u and v.\n",
    "\n",
    "<font color=\"blue\"> Use Sherman-Morrison Formula : $(A+uv^T)^{-1}=A^{-1}-\\frac{A^{-1}uv^TA^{-1}}{1+v^TA^{-1}u}$ </font>\n",
    "\n",
    "\n",
    "3. It is common practice to tweak LinUCB by multiplying the confidence bonus by some hyperparameter $ 0<\\alpha <1 $. \n",
    "What would be the effect of doing so ? Do you think it is a good idea ? What are the risks ?\n",
    "\n",
    "<font color=\"blue\">it reduces the confidence ellipsoid so we can be closer to $\\theta_*$ but we can also miss it. </font>"
   ]
  },
  {
   "cell_type": "markdown",
   "metadata": {},
   "source": [
    "## LinTS : Taking the Bayesian way\n",
    "\n",
    "Thompson Sampling is a popular bayesian alternative to the standard optimistic bandit algorithms (see Chapter 36 of Bandit Algorithms). The key idea is to rely on Bayesian samples to get a proxy for the hidden parameter $\\theta$ of the problem instead of building high-probability confidence regions. \n",
    "\n",
    "* Let us place a Gaussian prior with mean $\\mathbf{0}$ and covariance $\\sigma_0 I$ on $\\theta$. Given actions $A_1,\\ldots,A_t$ and rewards $Y_1,\\ldots,Y_t$, Can you compute the expression of the posterior at the beginning of round $t+1$ ? \n",
    "* Implement LinTS (Linear Thompson Sampling)"
   ]
  },
  {
   "cell_type": "markdown",
   "metadata": {
    "colab_type": "text",
    "id": "cX2dtH9A90C0"
   },
   "source": [
    "# Plot Function"
   ]
  },
  {
   "cell_type": "code",
   "execution_count": 2,
   "metadata": {
    "ExecuteTime": {
     "end_time": "2020-01-24T15:29:18.335106Z",
     "start_time": "2020-01-24T15:29:18.306183Z"
    },
    "colab": {},
    "colab_type": "code",
    "id": "1JbkkaXnJgqG"
   },
   "outputs": [],
   "source": [
    "## Plot function : \n",
    "#-*-coding: utf-8 -*-\n",
    "\n",
    "current_palette = sns.color_palette()\n",
    "sns.set_style(\"ticks\")\n",
    "\n",
    "\n",
    "styles = ['o', '^', 's', 'D', '*']\n",
    "colors = current_palette[0:4]+current_palette[5:6]\n",
    "color_lb = current_palette[4]\n",
    "\n",
    "algos = {'LinUCB': 'LinUCB','Unif': 'Unif'}\n",
    "\n",
    "def plot_regret(data, tsav, filename, log=False, taum=False,freq=50, qtl=False, save=False):\n",
    "    fig = plt.figure(figsize=(7, 6))\n",
    "    Nsub = len(tsav)\n",
    "    T = len(data[0][1]) # length of regret\n",
    "    N_curves = len(data)\n",
    "    if log == True:\n",
    "        plt.xscale('log')\n",
    "        markevery = 1. / 12\n",
    "        freq = 1\n",
    "    i = 0\n",
    "    \n",
    "    for key, regret, avgRegret, qRegret, QRegret in data:\n",
    "        T = len(regret)\n",
    "        if qtl:\n",
    "            label = algos[key] # r\"\\textbf{%s}\" % \n",
    "            plt.plot(tsav, avgRegret, marker=styles[i], markevery=4, ms=10.0, label=label, color=colors[i])\n",
    "            plt.fill_between(tsav, qRegret, QRegret, alpha=0.15, linewidth=1.5, color=colors[i])\n",
    "        else:\n",
    "            label = algos[key] #r\"\\textbf{%s}\" % algos[key]\n",
    "            plt.plot(np.arange(len(regret))[0::freq], regret[0::freq],marker=styles[i], ms=10.0,label=label, color=colors[i])\n",
    "        i += 1\n",
    "\n",
    "    plt.legend(loc=2)\n",
    "    plt.xlabel('Round t', fontsize=20)\n",
    "    plt.ylabel('Regret R(T)', fontsize=18)\n",
    "    if save:    \n",
    "        plt.savefig('%s.pdf' % (filename), bbox_inches='tight')\n",
    "        plt.show()\n",
    "        plt.close(fig)\n",
    "    return\n",
    "  \n",
    " \n"
   ]
  },
  {
   "cell_type": "markdown",
   "metadata": {
    "colab_type": "text",
    "id": "HH892IKv95t3"
   },
   "source": [
    "# Action generators "
   ]
  },
  {
   "cell_type": "code",
   "execution_count": 3,
   "metadata": {
    "ExecuteTime": {
     "end_time": "2020-01-24T15:29:18.527248Z",
     "start_time": "2020-01-24T15:29:18.339144Z"
    },
    "colab": {},
    "colab_type": "code",
    "id": "dKTTMwwB8rQS"
   },
   "outputs": [],
   "source": [
    "def randomActionsGenerator(K,d):\n",
    "    \"\"\"\n",
    "    K: int -- number of action vectors to be generated\n",
    "    d : int -- dimension of the action space\n",
    "    returns : an array of K vectors uniformly sampled on the unit sphere in R^d\n",
    "    \"\"\"\n",
    "    vecs = np.random.multivariate_normal(np.zeros(d), np.eye(d), size =K)\n",
    "    norms = np.linalg.norm(vecs,axis=1)\n",
    "    return vecs / norms[:,np.newaxis]"
   ]
  },
  {
   "cell_type": "code",
   "execution_count": 4,
   "metadata": {
    "ExecuteTime": {
     "end_time": "2020-01-24T15:29:18.711754Z",
     "start_time": "2020-01-24T15:29:18.529242Z"
    },
    "colab": {},
    "colab_type": "code",
    "id": "oRMn0Zrx9rvX"
   },
   "outputs": [],
   "source": [
    "a = randomActionsGenerator(100,2)"
   ]
  },
  {
   "cell_type": "code",
   "execution_count": 5,
   "metadata": {
    "ExecuteTime": {
     "end_time": "2020-01-24T15:29:19.134728Z",
     "start_time": "2020-01-24T15:29:18.713749Z"
    },
    "colab": {
     "base_uri": "https://localhost:8080/",
     "height": 286
    },
    "colab_type": "code",
    "id": "UeLSv2Vp9-75",
    "outputId": "0c6e20e2-009c-4d15-afdf-10dd2b306a6b"
   },
   "outputs": [
    {
     "data": {
      "image/png": "[encoded data removed]",
      "text/plain": [
       "<Figure size 432x288 with 1 Axes>"
      ]
     },
     "metadata": {},
     "output_type": "display_data"
    }
   ],
   "source": [
    "plt.scatter(a[:,0],a[:,1])\n",
    "plt.show()"
   ]
  },
  {
   "cell_type": "markdown",
   "metadata": {
    "colab_type": "text",
    "id": "3phj8yu79_Rt"
   },
   "source": [
    "# Environment Class"
   ]
  },
  {
   "cell_type": "code",
   "execution_count": 6,
   "metadata": {
    "ExecuteTime": {
     "end_time": "2020-01-24T15:29:19.151683Z",
     "start_time": "2020-01-24T15:29:19.138717Z"
    },
    "colab": {},
    "colab_type": "code",
    "id": "zKlD-rMUKumJ"
   },
   "outputs": [],
   "source": [
    "class Environment:\n",
    "    \"\"\"\n",
    "      Parameters:\n",
    "      -----------\n",
    "      K:  int\n",
    "          Number of arms generated at each round\n",
    "\n",
    "      d: int\n",
    "          Dimension of the problem\n",
    "\n",
    "      theta: d-dimensional vector\n",
    "          Key hidden parameter of the problem\n",
    "      \"\"\"\n",
    "\n",
    "    def __init__(self, d, K, theta):\n",
    "        self.theta = theta\n",
    "        self.d = d\n",
    "        self.K = K\n",
    "\n",
    "    def play(self, chosen_arm):\n",
    "        \"\"\"\n",
    "        Play the arm with index choice and returns the corresponding reward:\n",
    "        expected_reward + gaussian_noise\n",
    "        \"\"\"\n",
    "        expected_reward = np.dot(chosen_arm, self.theta)\n",
    "        reward = np.random.normal(expected_reward)\n",
    "\n",
    "        return chosen_arm, expected_reward, reward\n",
    "\n",
    "    def getBestArm(self, arms):\n",
    "        \"\"\"Return the index of the best arm and the corresponding expected payoff\"\"\"\n",
    "        payoffs = np.zeros(self.K)\n",
    "        for i in range(self.K):\n",
    "            payoffs[i] = np.dot(arms[i, :], self.theta)\n",
    "\n",
    "        bestArm = np.argmax(payoffs)\n",
    "        return bestArm, payoffs[bestArm]"
   ]
  },
  {
   "cell_type": "markdown",
   "metadata": {},
   "source": [
    "# Simulator"
   ]
  },
  {
   "cell_type": "code",
   "execution_count": 7,
   "metadata": {
    "ExecuteTime": {
     "end_time": "2020-01-24T15:29:19.438515Z",
     "start_time": "2020-01-24T15:29:19.155672Z"
    },
    "colab": {},
    "colab_type": "code",
    "id": "DGBOLpGfIg7M"
   },
   "outputs": [],
   "source": [
    "class Simulator():\n",
    "    \"\"\"\n",
    "      Simulator of stochastic delayed games.\n",
    "\n",
    "      Params:\n",
    "      -------\n",
    "\n",
    "      policies: list\n",
    "          List of policies to test.\n",
    "\n",
    "      K: int\n",
    "          Number of arms to be generated at each round\n",
    "\n",
    "      d: int\n",
    "          Dimension of the problem\n",
    "\n",
    "      \"\"\"\n",
    "\n",
    "    def __init__(self, environment, policies, K, d):\n",
    "        self.env = environment\n",
    "        self.policies = policies\n",
    "        self.d = d\n",
    "        self.K = K\n",
    "\n",
    "    def run(self, T, N, q, tsav):\n",
    "        \"\"\"Runs an experiment with parameters T and N.\n",
    "\n",
    "            It returns a dictionary whose keys are policies and whose values\n",
    "            are the regret obtained by these policies over the experiments and\n",
    "            averaged over N runs.qRegret and QRegret are the first and third quartiles.\n",
    "\n",
    "            Parameters\n",
    "            ----------\n",
    "            T: int\n",
    "                Length of the sequential allocations.\n",
    "\n",
    "            N: int\n",
    "                Number of Monte Carlo repetitions.\n",
    "\n",
    "            q: int\n",
    "                Quantile parameter (e.g. 25 -> quartiles)\n",
    "\n",
    "            tsav: numpy array (ndim = 1)\n",
    "                Points to save on each trajectory.\n",
    "            \"\"\"\n",
    "        #Nsub = np.size(tsav)\n",
    "\n",
    "        regret, cumRegret, N_plays = dict(), dict(), dict()\n",
    "        Nsub = np.size(tsav)  # Number of points saved for each trajectory\n",
    "        avgRegret, qRegret, QRegret = dict(), dict(), dict()\n",
    "\n",
    "        for policy in self.policies:\n",
    "            name = policy.id()\n",
    "            cumRegret[name] = np.zeros((N, Nsub))\n",
    "            regret[name] = np.zeros(T)\n",
    "\n",
    "        for nExp in range(N):\n",
    "\n",
    "            if N < 10 or nExp % (N / 5) == 0:\n",
    "                print(\"experiments executed:\", nExp)\n",
    "                sys.stdout.flush()\n",
    "\n",
    "            for policy in self.policies:\n",
    "\n",
    "                name = policy.id()\n",
    "                # Reinitialize the policy\n",
    "                policy.init()\n",
    "                optimalRewards = np.zeros(T)\n",
    "                rewards = np.zeros(T)\n",
    "\n",
    "                # We follow the policy\n",
    "                # print \"ready for experiment %d\" % (nExp)\n",
    "                for t in range(T):\n",
    "                    # get arms, play one of them (policy), get reward:\n",
    "                    availableArms = randomActionsGenerator(self.K, self.d)\n",
    "                    A_t = policy.selectArm(availableArms, self.K)\n",
    "                    chosen_arm, expected_reward, reward = self.env.play(availableArms[A_t, :])\n",
    "\n",
    "                    # update the policy:\n",
    "                    policy.updateState(chosen_arm, reward)\n",
    "\n",
    "                    # compute instant pseudo regret\n",
    "                    instantBestArm, instantBestReward = self.env.getBestArm(availableArms)\n",
    "                    optimalRewards[t] += instantBestReward\n",
    "                    rewards[t] += expected_reward\n",
    "\n",
    "                regret[name] += (optimalRewards - rewards)\n",
    "                cumRegret[name][nExp] += np.cumsum(optimalRewards - rewards)[tsav]\n",
    "\n",
    "        print(\"build data out of the experiments\")\n",
    "        for policy in self.policies:\n",
    "            name = policy.id()\n",
    "            regret[name] = np.cumsum(regret[name]) / N\n",
    "            cumReg = cumRegret[name]\n",
    "            avgRegret[name] = np.mean(cumReg, 0)\n",
    "            qRegret[name] = np.percentile(cumReg, q, 0)\n",
    "            QRegret[name] = np.percentile(cumReg, 100 - q, 0)\n",
    "\n",
    "        print(\"data built\")\n",
    "        return regret, avgRegret, qRegret, QRegret"
   ]
  },
  {
   "cell_type": "markdown",
   "metadata": {
    "colab_type": "text",
    "id": "DH0xNaMfBAbD"
   },
   "source": [
    "# Policies"
   ]
  },
  {
   "cell_type": "code",
   "execution_count": 8,
   "metadata": {
    "ExecuteTime": {
     "end_time": "2020-01-24T15:29:19.681864Z",
     "start_time": "2020-01-24T15:29:19.442507Z"
    },
    "colab": {},
    "colab_type": "code",
    "id": "5A0uWkbDBEnI"
   },
   "outputs": [],
   "source": [
    "class Policy(object):\n",
    "\n",
    "    def __init__(self, K, T):\n",
    "        \"\"\"\n",
    "            Constructor.\n",
    "            \"\"\"\n",
    "        raise NotImplementedError(\"Method `__init__` is not implemented.\")\n",
    "\n",
    "    def selectArm(self):\n",
    "        \"\"\"\n",
    "            This functions selects L arms among the K ones depending on statistics\n",
    "            over the past observations.\n",
    "            \"\"\"\n",
    "        raise NotImplementedError(\"Method `selectArms` is not implemented.\")\n",
    "\n",
    "    def updateState(self):\n",
    "        \"\"\"\n",
    "            This function updates the statistics given the new observations.\n",
    "            \"\"\"\n",
    "        raise NotImplementedError(\"Method `updateState` is not implemented.\")\n",
    "\n",
    "    def init(self):\n",
    "        \"\"\"\n",
    "            This function updates the statistics given the new observations.\n",
    "            \"\"\"\n",
    "        raise NotImplementedError(\"Method `updateState` is not implemented.\")\n",
    "\n",
    "    # @staticmethod\n",
    "    def id(self):\n",
    "        raise NotImplementedError(\"Static method `id` is not implemented.\")"
   ]
  },
  {
   "cell_type": "code",
   "execution_count": 9,
   "metadata": {
    "ExecuteTime": {
     "end_time": "2020-01-24T15:29:19.849422Z",
     "start_time": "2020-01-24T15:29:19.684857Z"
    },
    "colab": {},
    "colab_type": "code",
    "id": "e9uEOaPwBAbA"
   },
   "outputs": [],
   "source": [
    "# Policies :\n",
    "from numpy.linalg import pinv\n",
    "\n",
    "class Uniform(Policy):\n",
    "    def __init__(self, T, d):\n",
    "        pass\n",
    "\n",
    "    def selectArm(self, arms, K):\n",
    "        return np.random.choice(K)\n",
    "\n",
    "    def updateState(self, chosen_arm, reward):\n",
    "        pass\n",
    "\n",
    "    def init(self):\n",
    "        pass\n",
    "\n",
    "    # @staticmethod\n",
    "    def id(self):\n",
    "        return 'Unif'\n",
    "\n",
    "\n",
    "class LinUCB(Policy):\n",
    "\n",
    "    def __init__(self, T, d, delta, params):\n",
    "        self.T = T\n",
    "        self.d = d\n",
    "        self.delta = delta\n",
    "        self.Lambda = params[0] # regularization param\n",
    "        self.alpha = params[1] # to reduce confidence interval\n",
    "\n",
    "        # dropping the loglog(t) term for now\n",
    "\n",
    "    def init(self):\n",
    "\n",
    "        self.t = 0\n",
    "        self.X = 0 \n",
    "        self.V = self.Lambda * np.eye(self.d,self.d)\n",
    "        self.inv_V = np.eye(self.d,self.d)\n",
    "        self.Beta = 0\n",
    "        self.sum_Ax = np.zeros((self.d,1))\n",
    "        self.theta_c = np.zeros((self.d,1))\n",
    "\n",
    "    def selectArm(self, arms, K):\n",
    "        \"\"\"\n",
    "            This function implements LinUCB\n",
    "            Input:\n",
    "            -------\n",
    "            arms : list of arms (d-dimensional vectors)\n",
    "\n",
    "            Output:\n",
    "            -------\n",
    "            chosen_arm : index of the pulled arm\n",
    "            \"\"\"\n",
    "        A = np.zeros((K,))\n",
    "        for i,a in enumerate(arms):\n",
    "            A[i] = self.theta_c.T @ a + np.sqrt(self.alpha * self.Beta * a.T @ self.inv_V @ a)\n",
    "            \n",
    "        chosen_arm = np.argmax(A)\n",
    "\n",
    "        return chosen_arm\n",
    "\n",
    "    def updateState(self, chosen_arm, reward):\n",
    "        \" here chosen_arm is the vector (not the index)\"\n",
    "        S = 1 # borne sur theta et ||theta|| = 1\n",
    "        chosen_arm = chosen_arm.reshape(-1,1)\n",
    "        \n",
    "        self.X = reward\n",
    "        self.V = self.V + chosen_arm @ chosen_arm.T\n",
    "        self.Beta = np.sqrt(self.Lambda) * S + np.sqrt(2 * np.log(1 / self.delta) + np.log(np.linalg.det(self.V) / (self.Lambda**self.d)))\n",
    "        #self.inv_V = pinv(self.V)\n",
    "        self.inv_V = self.inv_V - (self.inv_V @ chosen_arm @ chosen_arm.T @ self.inv_V)/(1 + chosen_arm.T @ self.inv_V @ chosen_arm)\n",
    "        self.sum_Ax = self.sum_Ax + (chosen_arm * self.X)\n",
    "        self.theta_c = self.inv_V @ self.sum_Ax  \n",
    "        \n",
    "        pass\n",
    "\n",
    "    def id(self):\n",
    "        return \"LinUCB\""
   ]
  },
  {
   "cell_type": "markdown",
   "metadata": {
    "colab_type": "text",
    "id": "AY1ZUny5I4Pl"
   },
   "source": [
    "# main"
   ]
  },
  {
   "cell_type": "code",
   "execution_count": 10,
   "metadata": {
    "ExecuteTime": {
     "end_time": "2020-01-24T15:29:37.162335Z",
     "start_time": "2020-01-24T15:29:19.852409Z"
    },
    "colab": {
     "base_uri": "https://localhost:8080/",
     "height": 138
    },
    "colab_type": "code",
    "id": "0BoYONrQBAan",
    "outputId": "33d7f115-c725-4544-f2ea-47e68bf8ad30"
   },
   "outputs": [
    {
     "name": "stdout",
     "output_type": "stream",
     "text": [
      "experiments executed: 0\n",
      "experiments executed: 2\n",
      "experiments executed: 4\n",
      "experiments executed: 6\n",
      "experiments executed: 8\n",
      "build data out of the experiments\n",
      "data built\n"
     ]
    }
   ],
   "source": [
    "import time\n",
    "import numpy as np\n",
    "import pickle\n",
    "\n",
    "d = 15  # dimension\n",
    "K = 30  # number of arms\n",
    "\n",
    "# parametor vector \\theta, normalized :\n",
    "theta = np.random.randint(2, size=d)\n",
    "theta = theta / np.linalg.norm(theta)\n",
    "\n",
    "\n",
    "T = 1000  # Finite Horizon\n",
    "N = 10  # Monte Carlo simulations\n",
    "\n",
    "delta = 0.1\n",
    "\n",
    "# save subsampled points for Figures\n",
    "Nsub = 100\n",
    "tsav = range(2, T, Nsub)\n",
    "\n",
    "# choice of quantile display\n",
    "q = 10\n",
    "\n",
    "def main(N):\n",
    "\n",
    "    # Create an object of K arms with delayed feedback with mean delay tau\n",
    "    env = Environment(d, K, theta)\n",
    "    # Policies to evaluate\n",
    "    policies = [LinUCB(T, d, delta, params=[1,0.5]), Uniform(T, d)]\n",
    "\n",
    "    simulator = Simulator(env, policies, K, d)\n",
    "\n",
    "    regret, avgRegret, qRegret, QRegret = simulator.run(T, N, q, tsav)\n",
    "\n",
    "    data = [[policy, regret[policy], avgRegret[policy], qRegret[policy], QRegret[policy]] for policy in avgRegret]\n",
    "\n",
    "    return data\n",
    "\n",
    "\n",
    "data = main(N)\n",
    "\n",
    "# data\n",
    "#   with open('linucb_test' + str(d) + '_dim-' + str(K) + '_K' + '.pkl', 'wb') as foutput: pickle.dump(data, foutput, protocol=2)"
   ]
  },
  {
   "cell_type": "code",
   "execution_count": 11,
   "metadata": {
    "ExecuteTime": {
     "end_time": "2020-01-24T15:29:37.552338Z",
     "start_time": "2020-01-24T15:29:37.165328Z"
    },
    "colab": {
     "base_uri": "https://localhost:8080/",
     "height": 401
    },
    "colab_type": "code",
    "id": "4Aw_Nb8MDzJl",
    "outputId": "aedf8da5-4049-411b-9564-c636ca9f4e5b"
   },
   "outputs": [
    {
     "data": {
      "image/png": "[encoded data removed]",
      "text/plain": [
       "<Figure size 504x432 with 1 Axes>"
      ]
     },
     "metadata": {},
     "output_type": "display_data"
    }
   ],
   "source": [
    "freq = 10\n",
    "plot_regret(data, tsav,'linUCB_test'+str(d)+'_dim-'+str(K)+'_K', log=False, freq=freq, qtl=True, save=False)"
   ]
  },
  {
   "cell_type": "markdown",
   "metadata": {},
   "source": [
    "# Try Thomson Sampling"
   ]
  },
  {
   "cell_type": "markdown",
   "metadata": {
    "ExecuteTime": {
     "end_time": "2020-01-21T09:29:59.014615Z",
     "start_time": "2020-01-21T09:29:32.822Z"
    },
    "colab": {},
    "colab_type": "code",
    "id": "omuovVLcKxCw"
   },
   "source": [
    "http://proceedings.mlr.press/v28/agrawal13.pdf\n",
    "\n",
    "$ v = R \\sqrt{\\frac{24}{\\epsilon} d \\ln(\\frac{1}{\\delta})}$\n",
    "\n",
    "$ \\tilde{\\theta}_t \\sim \\mathcal{N}(\\hat{\\theta},v^2B^{-1})$\n",
    "\n",
    "$ idx_t = \\arg\\max_{i} a_i(t)^T \\tilde{\\theta}_t $\n",
    "\n",
    "$ B = B + a_{idx_t}(t) a_{idx_t}(t)^T $\n",
    "\n",
    "$ f = f + a_{idx_t}(t) r_t $\n",
    "\n",
    "$ \\hat{\\theta}_t = B^{-1} f $"
   ]
  },
  {
   "cell_type": "code",
   "execution_count": 12,
   "metadata": {
    "ExecuteTime": {
     "end_time": "2020-01-24T15:29:37.581262Z",
     "start_time": "2020-01-24T15:29:37.555331Z"
    }
   },
   "outputs": [],
   "source": [
    "class LinThompson(Policy):\n",
    "\n",
    "    def __init__(self, T, d, delta, params):\n",
    "        \n",
    "        self.T = T\n",
    "        self.d = d\n",
    "        eps = 1/np.log(T)\n",
    "        R = 10\n",
    "        self.v = R * np.sqrt(24/eps * d * np.log(1/delta))\n",
    "\n",
    "    def init(self):\n",
    "\n",
    "        self.t = 0 \n",
    "        self.B = np.eye(self.d,self.d)\n",
    "        self.inv_B = np.eye(self.d,self.d)\n",
    "        self.f = np.zeros((self.d,1))\n",
    "        self.theta_c = np.zeros((self.d,1))\n",
    "\n",
    "    def selectArm(self, arms, K):\n",
    "        \"\"\"\n",
    "            This function implements LinUCB\n",
    "            Input:\n",
    "            -------\n",
    "            arms : list of arms (d-dimensional vectors)\n",
    "\n",
    "            Output:\n",
    "            -------\n",
    "            chosen_arm : index of the pulled arm\n",
    "            \"\"\"\n",
    "        #print(self.v**2 * self.inv_B)\n",
    "        distribution = np.random.normal(self.theta_c, self.v**2 * self.inv_B)\n",
    "        choice = np.random.choice(distribution.shape[0],1)\n",
    "        theta_tilde = distribution[choice,:].reshape(-1,1)\n",
    "        \n",
    "        A = np.zeros((K,))\n",
    "        for i,a in enumerate(arms):\n",
    "            A[i] = a.T @ theta_tilde\n",
    "            \n",
    "        chosen_arm = np.argmax(A)\n",
    "\n",
    "        return chosen_arm\n",
    "\n",
    "    def updateState(self, chosen_arm, reward):\n",
    "        chosen_arm = chosen_arm.reshape(-1,1)\n",
    "\n",
    "        self.B = self.B + np.abs(chosen_arm @ chosen_arm.T)\n",
    "        self.inv_B = pinv(self.B)\n",
    "        self.f = self.f + chosen_arm * reward\n",
    "        self.theta_c = self.inv_B @ self.f\n",
    "        \n",
    "        pass\n",
    "\n",
    "    def id(self):\n",
    "        return \"LinUCB\""
   ]
  },
  {
   "cell_type": "code",
   "execution_count": 13,
   "metadata": {
    "ExecuteTime": {
     "end_time": "2020-01-24T15:29:38.003377Z",
     "start_time": "2020-01-24T15:29:37.583256Z"
    }
   },
   "outputs": [
    {
     "name": "stdout",
     "output_type": "stream",
     "text": [
      "experiments executed: 0\n"
     ]
    },
    {
     "ename": "ValueError",
     "evalue": "scale < 0",
     "output_type": "error",
     "traceback": [
      "\u001b[1;31m---------------------------------------------------------------------------\u001b[0m",
      "\u001b[1;31mValueError\u001b[0m                                Traceback (most recent call last)",
      "\u001b[1;32m<ipython-input-13-33d96e427fef>\u001b[0m in \u001b[0;36m<module>\u001b[1;34m\u001b[0m\n\u001b[0;32m     35\u001b[0m \u001b[1;33m\u001b[0m\u001b[0m\n\u001b[0;32m     36\u001b[0m \u001b[1;33m\u001b[0m\u001b[0m\n\u001b[1;32m---> 37\u001b[1;33m \u001b[0mdata\u001b[0m \u001b[1;33m=\u001b[0m \u001b[0mmain\u001b[0m\u001b[1;33m(\u001b[0m\u001b[0mN\u001b[0m\u001b[1;33m)\u001b[0m\u001b[1;33m\u001b[0m\u001b[1;33m\u001b[0m\u001b[0m\n\u001b[0m\u001b[0;32m     38\u001b[0m \u001b[1;33m\u001b[0m\u001b[0m\n\u001b[0;32m     39\u001b[0m \u001b[1;31m# data\u001b[0m\u001b[1;33m\u001b[0m\u001b[1;33m\u001b[0m\u001b[1;33m\u001b[0m\u001b[0m\n",
      "\u001b[1;32m<ipython-input-13-33d96e427fef>\u001b[0m in \u001b[0;36mmain\u001b[1;34m(N)\u001b[0m\n\u001b[0;32m     28\u001b[0m     \u001b[0msimulator\u001b[0m \u001b[1;33m=\u001b[0m \u001b[0mSimulator\u001b[0m\u001b[1;33m(\u001b[0m\u001b[0menv\u001b[0m\u001b[1;33m,\u001b[0m \u001b[0mpolicies\u001b[0m\u001b[1;33m,\u001b[0m \u001b[0mK\u001b[0m\u001b[1;33m,\u001b[0m \u001b[0md\u001b[0m\u001b[1;33m)\u001b[0m\u001b[1;33m\u001b[0m\u001b[1;33m\u001b[0m\u001b[0m\n\u001b[0;32m     29\u001b[0m \u001b[1;33m\u001b[0m\u001b[0m\n\u001b[1;32m---> 30\u001b[1;33m     \u001b[0mregret\u001b[0m\u001b[1;33m,\u001b[0m \u001b[0mavgRegret\u001b[0m\u001b[1;33m,\u001b[0m \u001b[0mqRegret\u001b[0m\u001b[1;33m,\u001b[0m \u001b[0mQRegret\u001b[0m \u001b[1;33m=\u001b[0m \u001b[0msimulator\u001b[0m\u001b[1;33m.\u001b[0m\u001b[0mrun\u001b[0m\u001b[1;33m(\u001b[0m\u001b[0mT\u001b[0m\u001b[1;33m,\u001b[0m \u001b[0mN\u001b[0m\u001b[1;33m,\u001b[0m \u001b[0mq\u001b[0m\u001b[1;33m,\u001b[0m \u001b[0mtsav\u001b[0m\u001b[1;33m)\u001b[0m\u001b[1;33m\u001b[0m\u001b[1;33m\u001b[0m\u001b[0m\n\u001b[0m\u001b[0;32m     31\u001b[0m \u001b[1;33m\u001b[0m\u001b[0m\n\u001b[0;32m     32\u001b[0m     \u001b[0mdata\u001b[0m \u001b[1;33m=\u001b[0m \u001b[1;33m[\u001b[0m\u001b[1;33m[\u001b[0m\u001b[0mpolicy\u001b[0m\u001b[1;33m,\u001b[0m \u001b[0mregret\u001b[0m\u001b[1;33m[\u001b[0m\u001b[0mpolicy\u001b[0m\u001b[1;33m]\u001b[0m\u001b[1;33m,\u001b[0m \u001b[0mavgRegret\u001b[0m\u001b[1;33m[\u001b[0m\u001b[0mpolicy\u001b[0m\u001b[1;33m]\u001b[0m\u001b[1;33m,\u001b[0m \u001b[0mqRegret\u001b[0m\u001b[1;33m[\u001b[0m\u001b[0mpolicy\u001b[0m\u001b[1;33m]\u001b[0m\u001b[1;33m,\u001b[0m \u001b[0mQRegret\u001b[0m\u001b[1;33m[\u001b[0m\u001b[0mpolicy\u001b[0m\u001b[1;33m]\u001b[0m\u001b[1;33m]\u001b[0m \u001b[1;32mfor\u001b[0m \u001b[0mpolicy\u001b[0m \u001b[1;32min\u001b[0m \u001b[0mavgRegret\u001b[0m\u001b[1;33m]\u001b[0m\u001b[1;33m\u001b[0m\u001b[1;33m\u001b[0m\u001b[0m\n",
      "\u001b[1;32m<ipython-input-7-c53ca07abe30>\u001b[0m in \u001b[0;36mrun\u001b[1;34m(self, T, N, q, tsav)\u001b[0m\n\u001b[0;32m     74\u001b[0m                     \u001b[1;31m# get arms, play one of them (policy), get reward:\u001b[0m\u001b[1;33m\u001b[0m\u001b[1;33m\u001b[0m\u001b[1;33m\u001b[0m\u001b[0m\n\u001b[0;32m     75\u001b[0m                     \u001b[0mavailableArms\u001b[0m \u001b[1;33m=\u001b[0m \u001b[0mrandomActionsGenerator\u001b[0m\u001b[1;33m(\u001b[0m\u001b[0mself\u001b[0m\u001b[1;33m.\u001b[0m\u001b[0mK\u001b[0m\u001b[1;33m,\u001b[0m \u001b[0mself\u001b[0m\u001b[1;33m.\u001b[0m\u001b[0md\u001b[0m\u001b[1;33m)\u001b[0m\u001b[1;33m\u001b[0m\u001b[1;33m\u001b[0m\u001b[0m\n\u001b[1;32m---> 76\u001b[1;33m                     \u001b[0mA_t\u001b[0m \u001b[1;33m=\u001b[0m \u001b[0mpolicy\u001b[0m\u001b[1;33m.\u001b[0m\u001b[0mselectArm\u001b[0m\u001b[1;33m(\u001b[0m\u001b[0mavailableArms\u001b[0m\u001b[1;33m,\u001b[0m \u001b[0mself\u001b[0m\u001b[1;33m.\u001b[0m\u001b[0mK\u001b[0m\u001b[1;33m)\u001b[0m\u001b[1;33m\u001b[0m\u001b[1;33m\u001b[0m\u001b[0m\n\u001b[0m\u001b[0;32m     77\u001b[0m                     \u001b[0mchosen_arm\u001b[0m\u001b[1;33m,\u001b[0m \u001b[0mexpected_reward\u001b[0m\u001b[1;33m,\u001b[0m \u001b[0mreward\u001b[0m \u001b[1;33m=\u001b[0m \u001b[0mself\u001b[0m\u001b[1;33m.\u001b[0m\u001b[0menv\u001b[0m\u001b[1;33m.\u001b[0m\u001b[0mplay\u001b[0m\u001b[1;33m(\u001b[0m\u001b[0mavailableArms\u001b[0m\u001b[1;33m[\u001b[0m\u001b[0mA_t\u001b[0m\u001b[1;33m,\u001b[0m \u001b[1;33m:\u001b[0m\u001b[1;33m]\u001b[0m\u001b[1;33m)\u001b[0m\u001b[1;33m\u001b[0m\u001b[1;33m\u001b[0m\u001b[0m\n\u001b[0;32m     78\u001b[0m \u001b[1;33m\u001b[0m\u001b[0m\n",
      "\u001b[1;32m<ipython-input-12-a5f2d22de8d6>\u001b[0m in \u001b[0;36mselectArm\u001b[1;34m(self, arms, K)\u001b[0m\n\u001b[0;32m     29\u001b[0m             \"\"\"\n\u001b[0;32m     30\u001b[0m         \u001b[1;31m#print(self.v**2 * self.inv_B)\u001b[0m\u001b[1;33m\u001b[0m\u001b[1;33m\u001b[0m\u001b[1;33m\u001b[0m\u001b[0m\n\u001b[1;32m---> 31\u001b[1;33m         \u001b[0mdistribution\u001b[0m \u001b[1;33m=\u001b[0m \u001b[0mnp\u001b[0m\u001b[1;33m.\u001b[0m\u001b[0mrandom\u001b[0m\u001b[1;33m.\u001b[0m\u001b[0mnormal\u001b[0m\u001b[1;33m(\u001b[0m\u001b[0mself\u001b[0m\u001b[1;33m.\u001b[0m\u001b[0mtheta_c\u001b[0m\u001b[1;33m,\u001b[0m \u001b[0mself\u001b[0m\u001b[1;33m.\u001b[0m\u001b[0mv\u001b[0m\u001b[1;33m**\u001b[0m\u001b[1;36m2\u001b[0m \u001b[1;33m*\u001b[0m \u001b[0mself\u001b[0m\u001b[1;33m.\u001b[0m\u001b[0minv_B\u001b[0m\u001b[1;33m)\u001b[0m\u001b[1;33m\u001b[0m\u001b[1;33m\u001b[0m\u001b[0m\n\u001b[0m\u001b[0;32m     32\u001b[0m         \u001b[0mchoice\u001b[0m \u001b[1;33m=\u001b[0m \u001b[0mnp\u001b[0m\u001b[1;33m.\u001b[0m\u001b[0mrandom\u001b[0m\u001b[1;33m.\u001b[0m\u001b[0mchoice\u001b[0m\u001b[1;33m(\u001b[0m\u001b[0mdistribution\u001b[0m\u001b[1;33m.\u001b[0m\u001b[0mshape\u001b[0m\u001b[1;33m[\u001b[0m\u001b[1;36m0\u001b[0m\u001b[1;33m]\u001b[0m\u001b[1;33m,\u001b[0m\u001b[1;36m1\u001b[0m\u001b[1;33m)\u001b[0m\u001b[1;33m\u001b[0m\u001b[1;33m\u001b[0m\u001b[0m\n\u001b[0;32m     33\u001b[0m         \u001b[0mtheta_tilde\u001b[0m \u001b[1;33m=\u001b[0m \u001b[0mdistribution\u001b[0m\u001b[1;33m[\u001b[0m\u001b[0mchoice\u001b[0m\u001b[1;33m,\u001b[0m\u001b[1;33m:\u001b[0m\u001b[1;33m]\u001b[0m\u001b[1;33m.\u001b[0m\u001b[0mreshape\u001b[0m\u001b[1;33m(\u001b[0m\u001b[1;33m-\u001b[0m\u001b[1;36m1\u001b[0m\u001b[1;33m,\u001b[0m\u001b[1;36m1\u001b[0m\u001b[1;33m)\u001b[0m\u001b[1;33m\u001b[0m\u001b[1;33m\u001b[0m\u001b[0m\n",
      "\u001b[1;32mmtrand.pyx\u001b[0m in \u001b[0;36mmtrand.RandomState.normal\u001b[1;34m()\u001b[0m\n",
      "\u001b[1;31mValueError\u001b[0m: scale < 0"
     ]
    }
   ],
   "source": [
    "\n",
    "d = 15  # dimension\n",
    "K = 30  # number of arms\n",
    "\n",
    "# parametor vector \\theta, normalized :\n",
    "theta = np.random.randint(2, size=d)\n",
    "theta = theta / np.linalg.norm(theta)\n",
    "\n",
    "\n",
    "T = 1000  # Finite Horizon\n",
    "N = 10  # Monte Carlo simulations\n",
    "\n",
    "delta = 0.1\n",
    "\n",
    "# save subsampled points for Figures\n",
    "Nsub = 100\n",
    "tsav = range(2, T, Nsub)\n",
    "\n",
    "# choice of quantile display\n",
    "q = 10\n",
    "\n",
    "def main(N):\n",
    "\n",
    "    # Create an object of K arms with delayed feedback with mean delay tau\n",
    "    env = Environment(d, K, theta)\n",
    "    # Policies to evaluate\n",
    "    policies = [LinThompson(T, d, delta, params=[1]), Uniform(T, d)]\n",
    "\n",
    "    simulator = Simulator(env, policies, K, d)\n",
    "\n",
    "    regret, avgRegret, qRegret, QRegret = simulator.run(T, N, q, tsav)\n",
    "\n",
    "    data = [[policy, regret[policy], avgRegret[policy], qRegret[policy], QRegret[policy]] for policy in avgRegret]\n",
    "\n",
    "    return data\n",
    "\n",
    "\n",
    "data = main(N)\n",
    "\n",
    "# data\n",
    "#   with open('linucb_test' + str(d) + '_dim-' + str(K) + '_K' + '.pkl', 'wb') as foutput: pickle.dump(data, foutput, protocol=2)"
   ]
  },
  {
   "cell_type": "code",
   "execution_count": null,
   "metadata": {
    "ExecuteTime": {
     "end_time": "2020-01-24T15:29:38.013349Z",
     "start_time": "2020-01-24T15:29:16.190Z"
    }
   },
   "outputs": [],
   "source": [
    "freq = 10\n",
    "plot_regret(data, tsav,'linUCB_test'+str(d)+'_dim-'+str(K)+'_K', log=False, freq=freq, qtl=True, save=False)"
   ]
  }
 ],
 "metadata": {
  "colab": {
   "collapsed_sections": [],
   "name": "StochasticLinearBandits.ipynb",
   "provenance": []
  },
  "kernelspec": {
   "display_name": "Python 3",
   "language": "python",
   "name": "python3"
  },
  "language_info": {
   "codemirror_mode": {
    "name": "ipython",
    "version": 3
   },
   "file_extension": ".py",
   "mimetype": "text/x-python",
   "name": "python",
   "nbconvert_exporter": "python",
   "pygments_lexer": "ipython3",
   "version": "3.7.4"
  },
  "toc": {
   "base_numbering": 1,
   "nav_menu": {},
   "number_sections": true,
   "sideBar": true,
   "skip_h1_title": false,
   "title_cell": "Table of Contents",
   "title_sidebar": "Contents",
   "toc_cell": false,
   "toc_position": {
    "height": "calc(100% - 180px)",
    "left": "10px",
    "top": "150px",
    "width": "165px"
   },
   "toc_section_display": true,
   "toc_window_display": false
  },
  "varInspector": {
   "cols": {
    "lenName": 16,
    "lenType": 16,
    "lenVar": 40
   },
   "kernels_config": {
    "python": {
     "delete_cmd_postfix": "",
     "delete_cmd_prefix": "del ",
     "library": "var_list.py",
     "varRefreshCmd": "print(var_dic_list())"
    },
    "r": {
     "delete_cmd_postfix": ") ",
     "delete_cmd_prefix": "rm(",
     "library": "var_list.r",
     "varRefreshCmd": "cat(var_dic_list()) "
    }
   },
   "types_to_exclude": [
    "module",
    "function",
    "builtin_function_or_method",
    "instance",
    "_Feature"
   ],
   "window_display": false
  }
 },
 "nbformat": 4,
 "nbformat_minor": 1
}
